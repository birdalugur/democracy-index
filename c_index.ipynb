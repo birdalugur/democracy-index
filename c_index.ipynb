{
 "cells": [
  {
   "cell_type": "markdown",
   "metadata": {},
   "source": [
    "# Read Data"
   ]
  },
  {
   "cell_type": "code",
   "execution_count": null,
   "metadata": {},
   "outputs": [],
   "source": [
    "import pandas as pd\n",
    "import numpy as np"
   ]
  },
  {
   "cell_type": "code",
   "execution_count": null,
   "metadata": {},
   "outputs": [],
   "source": [
    "data = pd.read_csv('input/data.csv')"
   ]
  },
  {
   "cell_type": "markdown",
   "metadata": {},
   "source": [
    "# Score"
   ]
  },
  {
   "cell_type": "code",
   "execution_count": null,
   "metadata": {
    "scrolled": true
   },
   "outputs": [],
   "source": [
    "# Skor tablosu hesaplanıyor >>>>>>>>>>>>>>>>>>>>>>>>>>>>>>>>>>>>>>>>>>>>>>>>>>>>>>>>>>>>>>>>>>>>>>>>\n",
    "score_table=data.drop(['name'],axis=1).groupby('time').apply(lambda x : x.rank()).drop('time',axis=1)\n",
    "score_table['borda']  =score_table.drop('democracy',axis=1).sum(axis=1)\n",
    "score_table=score_table.add_suffix('_score')\n",
    "score_table = pd.concat([data.loc[:,('name','time')],score_table],axis=1)\n",
    "score_table = score_table.sort_values(['time','democracy_score'],ascending=False)\n",
    "# <<<<<<<<<<<<<<<<<<<<<<<<<<<<<<<<<<<<<<<<<<<<<<<<<<<<<<<<<<<<<<<<<<<<<<<<<<<<<<<<<<<<<<<<<<<<<<<<<<"
   ]
  },
  {
   "cell_type": "markdown",
   "metadata": {},
   "source": [
    "# Rank"
   ]
  },
  {
   "cell_type": "code",
   "execution_count": null,
   "metadata": {},
   "outputs": [],
   "source": [
    "# Her bir yılın, her bir kategorisi için rank hesaplanıyor >>>>>>>>>>>>>>>>>>>>>>>>>>>>>>>>>>>>>>\n",
    "ranked = score_table.groupby('time').apply(lambda x: x.rank(method='min',ascending=False)).drop(['name','time'],axis=1)\n",
    "ranked.columns=ranked.columns.str.split('_').str[0]\n",
    "ranked = ranked.add_suffix('_rank')\n",
    "ranked =pd.concat([score_table.loc[:,('name','time')],ranked],axis=1)\n",
    "ranked['difference(democracy-borda)'] = (ranked['democracy_rank'] - ranked['borda_rank']).abs()\n",
    "ranked = ranked.sort_values(['time','democracy_rank','borda_rank'],ascending=[False,True,True])\n",
    "# <<<<<<<<<<<<<<<<<<<<<<<<<<<<<<<<<<<<<<<<<<<<<<<<<<<<<<<<<<<<<<<<<<<<<<<<<<<<<<<<<<<<<<<<<<<<<<<<<<<"
   ]
  },
  {
   "cell_type": "markdown",
   "metadata": {},
   "source": [
    "# Merge Score & Rank"
   ]
  },
  {
   "cell_type": "code",
   "execution_count": null,
   "metadata": {},
   "outputs": [],
   "source": [
    "# score table ile rank table birleştiriliyor >>>>>>>>>>>>>>>>>>>>>>>>>>>>>>>>>>>>>>>>>>>>>>\n",
    "joined = score_table.merge(ranked, on=['name','time'])\n",
    "joined=joined.sort_values(['time','democracy_rank','borda_rank'],ascending=[False,True,True])\n",
    "# <<<<<<<<<<<<<<<<<<<<<<<<<<<<<<<<<<<<<<<<<<<<<<<<<<<<<<<<<<<<<<<<<<<<<<<<<<<<<<<<<<<<<<<<<"
   ]
  },
  {
   "cell_type": "code",
   "execution_count": null,
   "metadata": {},
   "outputs": [],
   "source": [
    "# sütunlar sıralanıyor >>>>>>>>>>>>>>>>>>>>>>>>>>>>>>>>>>>>>>>>>>>>>>>>>\n",
    "column_order =['time', 'name', 'democracy_rank', 'democracy_score', \n",
    "       'civil liberties_rank', 'civil liberties_score', \n",
    "       'electoral pluralism_rank',\n",
    "       'electoral pluralism_score', 'government_rank', 'government_score',\n",
    "       'political culture_rank', 'political culture_score',\n",
    "       'difference(democracy-borda)','borda_rank', 'borda_score']\n",
    "joined=joined[column_order]\n",
    "# <<<<<<<<<<<<<<<<<<<<<<<<<<<<<<<<<<<<<<<<<<<<<<<<<<<<<<<<<<<<<<<<<<<<<<"
   ]
  },
  {
   "cell_type": "markdown",
   "metadata": {},
   "source": [
    "# Classification"
   ]
  },
  {
   "cell_type": "code",
   "execution_count": null,
   "metadata": {},
   "outputs": [],
   "source": [
    "def defineRange(min_:int,max_:int) -> tuple:\n",
    "    score = pd.Series(range(min_,max_+1))\n",
    "    \n",
    "    maximum:  float = max_\n",
    "    full_1:   float = score.quantile(.9)\n",
    "    full_2:   float = score.quantile(.8)\n",
    "    flawed_1: float = score.quantile(.7)\n",
    "    flawed_2: float = score.quantile(.6)\n",
    "    hybrid_1: float = score.quantile(.5)\n",
    "    hybrid_2: float = score.quantile(.4)\n",
    "    authoritarian_1: float = score.quantile(.3)\n",
    "    authoritarian_2: float = score.quantile(.2)\n",
    "    authoritarian_3: float = min_\n",
    "    bins_: tuple = (authoritarian_3,authoritarian_2,authoritarian_1,hybrid_2,hybrid_1,flawed_2,flawed_1,full_2,full_1,maximum)\n",
    "    \n",
    "    return bins_"
   ]
  },
  {
   "cell_type": "code",
   "execution_count": null,
   "metadata": {},
   "outputs": [],
   "source": [
    "labes_: tuple = ('authoritarian_3','authoritarian_2','authoritarian_1','hybrid_2','hybrid_1','flawed_2','flawed_1','full_2','full_1')\n"
   ]
  },
  {
   "cell_type": "code",
   "execution_count": null,
   "metadata": {},
   "outputs": [],
   "source": [
    "classified_score = joined.loc[:, ('time','name','borda_score')]\n",
    "\n",
    "classified_score =classified_score.merge(data.loc[:,('name','time','democracy')], on=['name','time'])\n",
    "\n",
    "classified_score['category_borda'] = classified_score.groupby('time')['borda_score'].apply(lambda x: pd.cut(x, bins=defineRange(5,5*len(x.dropna())),labels=labes_,include_lowest=True))\n",
    "\n",
    "classified_score['category_democracy'] = classified_score.groupby('time')['democracy'].apply(lambda x: pd.cut(x, bins=defineRange(1, len(x.dropna()),labels=labes_,include_lowest=True))"
   ]
  },
  {
   "cell_type": "markdown",
   "metadata": {},
   "source": [
    "# Year by Year"
   ]
  },
  {
   "cell_type": "code",
   "execution_count": null,
   "metadata": {},
   "outputs": [],
   "source": [
    "# >>>>>>>>>>>>>>>>>>>>>>>>>>>>>>>>>\n",
    "j=ranked.loc[:,('time','name','democracy_rank','borda_rank','difference(democracy-borda)')]\n",
    "date_list = j.time.unique()\n",
    "df_list = []\n",
    "for year in date_list:\n",
    "    df_list.append(j.groupby('time').get_group(year)[['name','democracy_rank','borda_rank','difference(democracy-borda)']].reset_index().sort_values(['democracy_rank','borda_rank']))\n",
    "year_by_year = pd.concat(df_list,axis=1,keys=date_list)\n",
    "# <<<<<<<<<<<<<<<<<<<<<<<<<<<<<<<<<<<<<<<<<"
   ]
  },
  {
   "cell_type": "markdown",
   "metadata": {},
   "source": [
    "# Write to Excel"
   ]
  },
  {
   "cell_type": "code",
   "execution_count": null,
   "metadata": {},
   "outputs": [],
   "source": [
    "classified_score.to_excel('output/classified_score.xlsx', index=False)\n",
    "joined.to_excel('output/joined.xlsx',index=False)\n",
    "year_by_year.to_excel('output/year_by_year.xlsx')"
   ]
  },
  {
   "cell_type": "code",
   "execution_count": null,
   "metadata": {},
   "outputs": [],
   "source": []
  },
  {
   "cell_type": "markdown",
   "metadata": {},
   "source": [
    "---"
   ]
  },
  {
   "cell_type": "code",
   "execution_count": null,
   "metadata": {
    "scrolled": true
   },
   "outputs": [],
   "source": [
    "# Ülkelerin, belirli yıldaki skorları arasındaki büyüklükler hesaplanıyor.>>>>>>\n",
    "st=score_table.drop(['name','time','borda_score','democracy_score'],axis=1)\n",
    "ranked_row = st.rank(axis=1,ascending=False)\n",
    "ranked_row = pd.concat([score_table.loc[:,('name','time')],ranked_row],axis=1)\n",
    "ranked_row.columns=ranked_row.columns.str.split('_').str[0]\n",
    "# <<<<<<<<<<<<<<<<<<<<<<<<<<<<<<<<<<<<<<<<<<<<<<<<<<<<<<<<<<<<<<<<<<<<<<<<<<<<<<"
   ]
  },
  {
   "cell_type": "raw",
   "metadata": {},
   "source": [
    "ranked_row.sort_values(['time','name'],ascending=False).head(20)"
   ]
  },
  {
   "cell_type": "code",
   "execution_count": null,
   "metadata": {},
   "outputs": [],
   "source": []
  },
  {
   "cell_type": "code",
   "execution_count": null,
   "metadata": {},
   "outputs": [],
   "source": []
  },
  {
   "cell_type": "code",
   "execution_count": null,
   "metadata": {},
   "outputs": [],
   "source": [
    "# rank index hesaplanıyor (yıllara göre kategorilerin sıralanması) >>>>>>>>>>>>>>\n",
    "borda_rank = ranked_row.groupby('time').sum().transpose()\n",
    "rank_index=borda_rank.copy()\n",
    "for year in borda_rank.columns:\n",
    "    rank_index[year] =borda_rank[year].sort_values(ascending=False).index\n",
    "rank_index = rank_index.reset_index(drop=True)\n",
    "# <<<<<<<<<<<<<<<<<<<<<<<<<<<<<<<<<<<<<<<<<<<<<<<<<<<<<<<<<<<<<<<<<<<<<<<<<<<<"
   ]
  },
  {
   "cell_type": "code",
   "execution_count": null,
   "metadata": {},
   "outputs": [],
   "source": []
  },
  {
   "cell_type": "code",
   "execution_count": null,
   "metadata": {},
   "outputs": [],
   "source": []
  },
  {
   "cell_type": "code",
   "execution_count": null,
   "metadata": {},
   "outputs": [],
   "source": []
  },
  {
   "cell_type": "markdown",
   "metadata": {},
   "source": [
    "# Excel'e Yazdır"
   ]
  },
  {
   "cell_type": "code",
   "execution_count": null,
   "metadata": {},
   "outputs": [],
   "source": [
    "borda_rank.to_excel('output/borda_rank.xlsx')\n",
    "rank_index.to_excel('output/rank_index.xlsx')\n"
   ]
  },
  {
   "cell_type": "code",
   "execution_count": null,
   "metadata": {},
   "outputs": [],
   "source": []
  },
  {
   "cell_type": "code",
   "execution_count": null,
   "metadata": {},
   "outputs": [],
   "source": []
  },
  {
   "cell_type": "code",
   "execution_count": null,
   "metadata": {},
   "outputs": [],
   "source": []
  },
  {
   "cell_type": "code",
   "execution_count": null,
   "metadata": {},
   "outputs": [],
   "source": []
  },
  {
   "cell_type": "code",
   "execution_count": null,
   "metadata": {},
   "outputs": [],
   "source": []
  },
  {
   "cell_type": "markdown",
   "metadata": {},
   "source": [
    "---"
   ]
  },
  {
   "cell_type": "markdown",
   "metadata": {},
   "source": [
    "# Trash"
   ]
  },
  {
   "cell_type": "raw",
   "metadata": {},
   "source": [
    "# Veri okunuyor>>>>>>>>>>>>>>>>>>>>>>>>>>>>>>>>>>>>>>>>>>>>>>>>>\n",
    "data = pd.read_excel(\"input/DataCountries.xlsx\").drop('geo',axis=1)\n",
    "data = data.apply(lambda x : np.trim_zeros(x))\n",
    "data.columns = data.columns.str.lower().str.replace('index (eiu)','', regex=False).str.strip()\n",
    "# <<<<<<<<<<<<<<<<<<<<<<<<<<<<<<<<<<<<<<<<<<<<<<<<<<<<<<<<<<<<<<<<"
   ]
  },
  {
   "cell_type": "raw",
   "metadata": {},
   "source": [
    "# 2019 yılı veriye ekleniyor >>>>>>>>>>>>>>>>>>>>>>>>>>>>>>>>>>>>>>\n",
    "data_19 = pd.read_csv('input/eui_19.csv')\n",
    "\n",
    "data_19 = data_19.drop('Rank',axis=1)\n",
    "\n",
    "data_19.columns = ['name','democracy', 'electoral pluralism','government','political participation','political culture','civil liberties']\n",
    "\n",
    "data_19 = data_19.assign(time=2019)\n",
    "\n",
    "data_19.update(data_19.drop(['name','time'],axis=1)*10)\n",
    "\n",
    "data = pd.concat([data,data_19],sort=False)\n",
    "\n",
    "data.to_csv('input/data.csv',index = False)\n",
    "# <<<<<<<<<<<<<<<<<<<<<<<<<<<<<<<<<<<<<<<<<<<<<<<<<<<<<<<<<<<<<<<<<"
   ]
  }
 ],
 "metadata": {
  "kernelspec": {
   "display_name": "Python 3",
   "language": "python",
   "name": "python3"
  },
  "language_info": {
   "codemirror_mode": {
    "name": "ipython",
    "version": 3
   },
   "file_extension": ".py",
   "mimetype": "text/x-python",
   "name": "python",
   "nbconvert_exporter": "python",
   "pygments_lexer": "ipython3",
   "version": "3.6.9"
  }
 },
 "nbformat": 4,
 "nbformat_minor": 2
}
